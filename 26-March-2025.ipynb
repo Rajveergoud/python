{
 "cells": [
  {
   "cell_type": "code",
   "execution_count": null,
   "metadata": {},
   "outputs": [
    {
     "name": "stdout",
     "output_type": "stream",
     "text": [
      "['Hello', 'World', 'Python']\n",
      "Python World Hello\n",
      "18\n",
      "18\n"
     ]
    }
   ],
   "source": [
    "# Reversing words in a String\n",
    "\n",
    "s = \"Hello World Python\"\n",
    "list1 = s.split(\" \")\n",
    "print(list1)\n",
    "s1 = \"\"\n",
    "\n",
    "for i in range(len(list1)):\n",
    "    s1 += list1[len(list1)-1-i]\n",
    "    if (i<len(list1)-1):\n",
    "        s1+= \" \"\n",
    "\n",
    "\n",
    "print(s1)\n",
    "print(len(s))\n",
    "print(len(s1))"
   ]
  },
  {
   "cell_type": "code",
   "execution_count": null,
   "metadata": {},
   "outputs": [
    {
     "name": "stdout",
     "output_type": "stream",
     "text": [
      "It's an Anagram\n"
     ]
    }
   ],
   "source": [
    "# Anagram Problem\n",
    "\n",
    "# Given Strings\n",
    "s1 = \"listen\"\n",
    "s2 = \"silent\"\n",
    "\n",
    "# Conditions of Anagrams\n",
    "# 1. Length should be same\n",
    "# 2. count for every character should be same\n",
    "\n",
    "# Solution -\n",
    "\n",
    "if (sorted(s1) == sorted(s2)): # Sorted method sorts alphabets\n",
    "    print(\"It's an Anagram\")\n",
    "else: \n",
    "    print(\"It's not an Anagram\")"
   ]
  },
  {
   "cell_type": "code",
   "execution_count": null,
   "metadata": {},
   "outputs": [],
   "source": [
    "# Palindrome Problem\n",
    "\n",
    "s = \"babad\" \n",
    "left = 0\n",
    "right = 0\n"
   ]
  }
 ],
 "metadata": {
  "kernelspec": {
   "display_name": "Python 3",
   "language": "python",
   "name": "python3"
  },
  "language_info": {
   "codemirror_mode": {
    "name": "ipython",
    "version": 3
   },
   "file_extension": ".py",
   "mimetype": "text/x-python",
   "name": "python",
   "nbconvert_exporter": "python",
   "pygments_lexer": "ipython3",
   "version": "3.12.1"
  }
 },
 "nbformat": 4,
 "nbformat_minor": 2
}
