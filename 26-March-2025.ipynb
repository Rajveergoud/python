{
 "cells": [
  {
   "cell_type": "code",
   "execution_count": 5,
   "metadata": {},
   "outputs": [
    {
     "name": "stdout",
     "output_type": "stream",
     "text": [
      "['Hello', 'World', 'Python']\n",
      "Python World Hello\n",
      "18\n",
      "18\n"
     ]
    }
   ],
   "source": [
    "s = \"Hello World Python\"\n",
    "list1 = s.split(\" \")\n",
    "print(list1)\n",
    "s1 = \"\"\n",
    "\n",
    "for i in range(len(list1)):\n",
    "    s1 += list1[len(list1)-1-i]\n",
    "    if (i<len(list1)-1):\n",
    "        s1+= \" \"\n",
    "\n",
    "print(s1)\n",
    "print(len(s))\n",
    "print(len(s1))"
   ]
  },
  {
   "cell_type": "code",
   "execution_count": null,
   "metadata": {},
   "outputs": [],
   "source": []
  },
  {
   "cell_type": "code",
   "execution_count": null,
   "metadata": {},
   "outputs": [],
   "source": []
  }
 ],
 "metadata": {
  "kernelspec": {
   "display_name": "Python 3",
   "language": "python",
   "name": "python3"
  },
  "language_info": {
   "codemirror_mode": {
    "name": "ipython",
    "version": 3
   },
   "file_extension": ".py",
   "mimetype": "text/x-python",
   "name": "python",
   "nbconvert_exporter": "python",
   "pygments_lexer": "ipython3",
   "version": "3.12.1"
  }
 },
 "nbformat": 4,
 "nbformat_minor": 2
}
