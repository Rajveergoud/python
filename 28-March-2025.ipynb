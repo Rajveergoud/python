{
 "cells": [
  {
   "cell_type": "code",
   "execution_count": null,
   "metadata": {},
   "outputs": [
    {
     "name": "stdout",
     "output_type": "stream",
     "text": [
      "Your guess is a little too less, try a little bigger\n",
      "Your guess is a little too less, try a little bigger\n",
      "Your guess is a little too less, try a little bigger\n",
      "Your guess is a little too higher, go a little less\n",
      "Your guess is a little too less, try a little bigger\n",
      "Your guess is a little too higher, go a little less\n",
      "Your guess is a little too higher, go a little less\n",
      "Your guess is a little too higher, go a little less\n",
      "Your guess is a little too higher, go a little less\n",
      "Your guess is a little too higher, go a little less\n"
     ]
    }
   ],
   "source": [
    "import random\n",
    "\n",
    "\n",
    "lower_limit = int(input(\"Enter the lower limit\"))\n",
    "upper_limit = int(input(\"Enter the upper limit\"))\n",
    "rand_num = random.randint(lower_limit, upper_limit)\n",
    "count = (int)((upper_limit-lower_limit)/10)\n",
    "\n",
    "while(count>=0):\n",
    "    guess_no = int(input(\"Guess a number between\"))\n",
    "    count -= 1\n",
    "    if(rand_num == guess_no):\n",
    "        print(\"You have guessed the number correctly\")\n",
    "    else:\n",
    "        if(guess_no < rand_num):\n",
    "            print(\"Your guess is a little too less, try a little bigger\")\n",
    "            continue\n",
    "        elif(guess_no > rand_num):\n",
    "            print(\"Your guess is a little too higher, go a little less\")\n",
    "    "
   ]
  },
  {
   "cell_type": "code",
   "execution_count": 8,
   "metadata": {},
   "outputs": [
    {
     "name": "stdout",
     "output_type": "stream",
     "text": [
      "Try a little bigger\n",
      "8  chances remaining\n",
      "Try a little bigger\n",
      "7  chances remaining\n",
      "Try a little lesser\n",
      "6  chances remaining\n",
      "Try a little lesser\n",
      "5  chances remaining\n",
      "Try a little bigger\n",
      "4  chances remaining\n",
      "Try a little bigger\n",
      "3  chances remaining\n",
      "Try a little lesser\n",
      "2  chances remaining\n",
      "You have guessed the correct number\n"
     ]
    }
   ],
   "source": [
    "import random\n",
    "\n",
    "lower_limit = int(input(\"Enter the lower limit\"))\n",
    "upper_limit = int(input(\"Enter the upper limit\"))\n",
    "rand_num = random.randint(lower_limit, upper_limit)\n",
    "count = int((upper_limit-lower_limit)/10)\n",
    "\n",
    "for i in range(count, 0, -1):\n",
    "    guess_no = int(input(\"Guess a number\"))\n",
    "    count -= 1\n",
    "    if(guess_no == rand_num):\n",
    "        print(\"You have guessed the correct number\")\n",
    "        break\n",
    "    else:\n",
    "        if(guess_no > rand_num):\n",
    "            print(\"Try a little lesser\")\n",
    "            print(count, \" chances remaining\")\n",
    "        else:\n",
    "            print(\"Try a little bigger\")\n",
    "            print(count, \" chances remaining\")\n"
   ]
  }
 ],
 "metadata": {
  "kernelspec": {
   "display_name": "Python 3",
   "language": "python",
   "name": "python3"
  },
  "language_info": {
   "codemirror_mode": {
    "name": "ipython",
    "version": 3
   },
   "file_extension": ".py",
   "mimetype": "text/x-python",
   "name": "python",
   "nbconvert_exporter": "python",
   "pygments_lexer": "ipython3",
   "version": "3.12.1"
  }
 },
 "nbformat": 4,
 "nbformat_minor": 2
}
